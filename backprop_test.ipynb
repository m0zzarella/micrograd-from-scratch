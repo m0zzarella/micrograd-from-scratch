{
  "nbformat": 4,
  "nbformat_minor": 0,
  "metadata": {
    "colab": {
      "provenance": []
    },
    "kernelspec": {
      "name": "python3",
      "display_name": "Python 3"
    },
    "language_info": {
      "name": "python"
    }
  },
  "cells": [
    {
      "cell_type": "code",
      "execution_count": null,
      "metadata": {
        "id": "7WqpRoYxDIGf"
      },
      "outputs": [],
      "source": [
        "import math\n",
        "import numpy as np\n",
        "import matplotlib.pyplot as plt\n",
        "%matplotlib inline"
      ]
    },
    {
      "cell_type": "code",
      "source": [
        "def f(x):\n",
        "  return 2*x**3 - 2*x**2 - 35*x + 6"
      ],
      "metadata": {
        "id": "ZFMwWl8hIkH7"
      },
      "execution_count": null,
      "outputs": []
    },
    {
      "cell_type": "code",
      "source": [
        "xs = np.arange(-5, 5, 0.25)\n",
        "f(xs)"
      ],
      "metadata": {
        "colab": {
          "base_uri": "https://localhost:8080/"
        },
        "id": "2LmLjx8vI17f",
        "outputId": "8aa0ac9c-4739-48d5-c657-2afd49ba79bd"
      },
      "execution_count": null,
      "outputs": [
        {
          "output_type": "execute_result",
          "data": {
            "text/plain": [
              "array([-119.     ,  -87.21875,  -59.25   ,  -34.90625,  -14.     ,\n",
              "          3.65625,   18.25   ,   29.96875,   39.     ,   45.53125,\n",
              "         49.75   ,   51.84375,   52.     ,   50.40625,   47.25   ,\n",
              "         42.71875,   37.     ,   30.28125,   22.75   ,   14.59375,\n",
              "          6.     ,   -2.84375,  -11.75   ,  -20.53125,  -29.     ,\n",
              "        -36.96875,  -44.25   ,  -50.65625,  -56.     ,  -60.09375,\n",
              "        -62.75   ,  -63.78125,  -63.     ,  -60.21875,  -55.25   ,\n",
              "        -47.90625,  -38.     ,  -25.34375,   -9.75   ,    8.96875])"
            ]
          },
          "metadata": {},
          "execution_count": 3
        }
      ]
    },
    {
      "cell_type": "code",
      "source": [
        "plt.plot(xs, f(xs))"
      ],
      "metadata": {
        "colab": {
          "base_uri": "https://localhost:8080/",
          "height": 283
        },
        "id": "57vdWVBwJOhD",
        "outputId": "d2b1b300-181e-4cc2-e48d-50cac9483b06"
      },
      "execution_count": null,
      "outputs": [
        {
          "output_type": "execute_result",
          "data": {
            "text/plain": [
              "[<matplotlib.lines.Line2D at 0x7f62a7a2d190>]"
            ]
          },
          "metadata": {},
          "execution_count": 4
        },
        {
          "output_type": "display_data",
          "data": {
            "text/plain": [
              "<Figure size 432x288 with 1 Axes>"
            ],
            "image/png": "[encoded data removed]"
          },
          "metadata": {
            "needs_background": "light"
          }
        }
      ]
    },
    {
      "cell_type": "code",
      "source": [
        "h = 0.001\n",
        "x = -2.0\n",
        "print(f(x))\n",
        "print(f(x+h))\n",
        "print((f(x+h)-f(x))/h)\n",
        "x = 3.0\n",
        "print(f(x))\n",
        "print(f(x+h))\n",
        "\n",
        "print((f(x+h)-f(x))/h)"
      ],
      "metadata": {
        "id": "qo2AwE7RJXXC",
        "colab": {
          "base_uri": "https://localhost:8080/"
        },
        "outputId": "53b5cb67-1fd5-4bfd-8ccf-872acf19342b"
      },
      "execution_count": null,
      "outputs": [
        {
          "output_type": "stream",
          "name": "stdout",
          "text": [
            "52.0\n",
            "51.996986002\n",
            "-3.0139980000001287\n",
            "-63.0\n",
            "-62.992983998\n",
            "7.016002000000299\n"
          ]
        }
      ]
    },
    {
      "cell_type": "code",
      "source": [
        "#differentiations \n",
        "h = 0.0001\n",
        "\n",
        "#inputs \n",
        "a = 2.0\n",
        "b = -3.0\n",
        "c = 10.0\n",
        "\n",
        "d1 = a*b + c\n",
        "a+=h\n",
        "d2 = a*b + c\n",
        "print('a is increased by h')\n",
        "print('d1: ', d1)\n",
        "print('d2: ', d2)\n",
        "print('slope: ', ((d2-d1)/h))\n",
        "\n",
        "d1 = a*b + c\n",
        "b+=h\n",
        "d2 = a*b + c\n",
        "print('b is increased by h')\n",
        "print('d1: ', d1)\n",
        "print('d2: ', d2)\n",
        "print('slope: ', ((d2-d1)/h))"
      ],
      "metadata": {
        "colab": {
          "base_uri": "https://localhost:8080/"
        },
        "id": "xa64HCUpzyV9",
        "outputId": "3f133bb7-0c6b-4631-deda-1e33a1629740"
      },
      "execution_count": null,
      "outputs": [
        {
          "output_type": "stream",
          "name": "stdout",
          "text": [
            "a is increased by h\n",
            "d1:  4.0\n",
            "d2:  3.999699999999999\n",
            "slope:  -3.000000000010772\n",
            "b is increased by h\n",
            "d1:  3.999699999999999\n",
            "d2:  3.99990001\n",
            "slope:  2.0001000000124947\n"
          ]
        }
      ]
    },
    {
      "cell_type": "code",
      "source": [
        "#neural network\n",
        "class Value:\n",
        "  \n",
        "  def __init__(self, data, _children=(), _op='', label=''):\n",
        "    self.data = data\n",
        "    self.grad = 0.0\n",
        "    self._backward = lambda: None\n",
        "    self._prev = set(_children)\n",
        "    self._op = _op\n",
        "    self.label = label\n",
        "\n",
        "  def __repr__(self):\n",
        "    return f\"Value (data={self.data})\"\n",
        "  \n",
        "  def __add__(self, other):\n",
        "    out = Value(self.data + other.data, (self, other), '+')\n",
        "    \n",
        "    def _backward():\n",
        "      self.grad += 1.0 * out.grad\n",
        "      other.grad += 1.0 * out.grad\n",
        "    out._backward = _backward\n",
        "    \n",
        "    return out\n",
        "\n",
        "  def __mul__(self, other):\n",
        "    out = Value(self.data * other.data, (self, other), '*')\n",
        "    \n",
        "    def _backward():\n",
        "      self.grad += other.data * out.grad\n",
        "      other.grad += self.data * out.grad\n",
        "    out._backward = _backward\n",
        "      \n",
        "    return out\n",
        "  \n",
        "  def tanh(self):\n",
        "    x = self.data\n",
        "    t = (math.exp(2*x) - 1)/(math.exp(2*x) + 1)\n",
        "    out = Value(t, (self, ), 'tanh')\n",
        "    \n",
        "    def _backward():\n",
        "      self.grad += (1 - t**2) * out.grad\n",
        "    out._backward = _backward\n",
        "    \n",
        "    return out\n",
        "  #topological sort for all gradients\n",
        "  def backward(self):\n",
        "    \n",
        "    topo = []\n",
        "    visited = set()\n",
        "    def build_topo(v):\n",
        "      if v not in visited:\n",
        "        visited.add(v)\n",
        "        for child in v._prev:\n",
        "          build_topo(child)\n",
        "        topo.append(v)\n",
        "    build_topo(self)\n",
        "    \n",
        "    self.grad = 1.0\n",
        "    for node in reversed(topo):\n",
        "      node._backward()\n",
        "\n",
        "\n",
        "a = Value(2.0, label='a')\n",
        "b = Value(-3.0, label='b')\n",
        "c = Value(10.0, label='c')\n",
        "e = a*b; e.label = 'e'\n",
        "d = e + c; d.label = 'd'\n",
        "f = Value(-2.0, label='f')\n",
        "L = d * f; L.label = 'L'\n",
        "L\n"
      ],
      "metadata": {
        "colab": {
          "base_uri": "https://localhost:8080/"
        },
        "id": "JE3VFPBz1Zxl",
        "outputId": "d06a05ce-1f7b-408d-8a95-0fd4b185ccc7"
      },
      "execution_count": null,
      "outputs": [
        {
          "output_type": "execute_result",
          "data": {
            "text/plain": [
              "Value (data=-8.0)"
            ]
          },
          "metadata": {},
          "execution_count": 74
        }
      ]
    },
    {
      "cell_type": "code",
      "source": [
        "from graphviz import Digraph\n",
        "\n",
        "def trace(root):\n",
        "  # builds a set of all nodes and edges in a graph\n",
        "  nodes, edges = set(), set()\n",
        "  def build(v):\n",
        "    if v not in nodes:\n",
        "      nodes.add(v)\n",
        "      for child in v._prev:\n",
        "        edges.add((child, v))\n",
        "        build(child)\n",
        "  build(root)\n",
        "  return nodes, edges\n",
        "\n",
        "def draw_dot(root):\n",
        "  dot = Digraph(format='svg', graph_attr={'rankdir': 'LR'}) # LR = left to right\n",
        "  \n",
        "  nodes, edges = trace(root)\n",
        "  for n in nodes:\n",
        "    uid = str(id(n))\n",
        "    # for any value in the graph, create a rectangular ('record') node for it\n",
        "    dot.node(name = uid, label = \"{ %s | data %.4f | grad %.4f }\" % (n.label, n.data, n.grad), shape='record')\n",
        "    if n._op:\n",
        "      # if this value is a result of some operation, create an op node for it\n",
        "      dot.node(name = uid + n._op, label = n._op)\n",
        "      # and connect this node to it\n",
        "      dot.edge(uid + n._op, uid)\n",
        "\n",
        "  for n1, n2 in edges:\n",
        "    # connect n1 to the op node of n2\n",
        "    dot.edge(str(id(n1)), str(id(n2)) + n2._op)\n",
        "\n",
        "  return dot\n"
      ],
      "metadata": {
        "id": "LcntaZQO3CqW"
      },
      "execution_count": null,
      "outputs": []
    },
    {
      "cell_type": "code",
      "source": [
        "#manual backprop gradients\n",
        "#dL/dL = 1.0\n",
        "L.grad = 1.0\n",
        "\n",
        "'''\n",
        "L = d*f\n",
        "dL/dd = f\n",
        "dL/df = d\n",
        "'''\n",
        "d.grad = -2.0\n",
        "f.grad = 4.0\n",
        "\n",
        "'''\n",
        "local derivative\n",
        "d = c + e\n",
        "dd/dc = 1.0\n",
        "dd/de = 1.0\n",
        "\n",
        "routes the gradient \n",
        "\n",
        "dL/dc = (dL/dd) * (dd/dc)\n",
        "dL/de = (dL/dd) * (dd/dc)  by symmetry \n",
        "'''\n",
        "c.grad = -2.0\n",
        "e.grad = -2.0\n",
        "\n",
        "'''\n",
        "dL/de = -2.0\n",
        "dL/da = (dL/de) * (de/da)\n",
        "e = a + b\n",
        "de/da = b\n",
        "b = -3\n",
        "a.grad = -3.0*-2.0\n",
        "b.grad = -2.0 * 2.0\n",
        "\n",
        "'''\n",
        "a.grad = 6.0\n",
        "b.grad = -4.0\n",
        "\n",
        "draw_dot(L)\n"
      ],
      "metadata": {
        "colab": {
          "base_uri": "https://localhost:8080/",
          "height": 211
        },
        "id": "XV1Cb6bL5Xzg",
        "outputId": "4926fa82-b411-4cff-ac1b-d7999bcf95ee"
      },
      "execution_count": null,
      "outputs": [
        {
          "output_type": "execute_result",
          "data": {
            "text/plain": [
              "<graphviz.dot.Digraph at 0x7f629db0cf40>"
            ],
            "image/svg+xml": "<?xml version=\"1.0\" encoding=\"UTF-8\" standalone=\"no\"?>\n<!DOCTYPE svg PUBLIC \"-//W3C//DTD SVG 1.1//EN\"\n \"http://www.w3.org/Graphics/SVG/1.1/DTD/svg11.dtd\">\n<!-- Generated by graphviz version 2.40.1 (20161225.0304)\n -->\n<!-- Title: %3 Pages: 1 -->\n<svg width=\"1201pt\" height=\"128pt\"\n viewBox=\"0.00 0.00 1201.00 128.00\" xmlns=\"http://www.w3.org/2000/svg\" xmlns:xlink=\"http://www.w3.org/1999/xlink\">\n<g id=\"graph0\" class=\"graph\" transform=\"scale(1 1) rotate(0) translate(4 124)\">\n<title>%3</title>\n<polygon fill=\"#ffffff\" stroke=\"transparent\" points=\"-4,4 -4,-124 1197,-124 1197,4 -4,4\"/>\n<!-- 140061528777776 -->\n<g id=\"node1\" class=\"node\">\n<title>140061528777776</title>\n<polygon fill=\"none\" stroke=\"#000000\" points=\"331,-83.5 331,-119.5 538,-119.5 538,-83.5 331,-83.5\"/>\n<text text-anchor=\"middle\" x=\"342.5\" y=\"-97.8\" font-family=\"Times,serif\" font-size=\"14.00\" fill=\"#000000\">c</text>\n<polyline fill=\"none\" stroke=\"#000000\" points=\"354,-83.5 354,-119.5 \"/>\n<text text-anchor=\"middle\" x=\"400\" y=\"-97.8\" font-family=\"Times,serif\" font-size=\"14.00\" fill=\"#000000\">data 10.0000</text>\n<polyline fill=\"none\" stroke=\"#000000\" points=\"446,-83.5 446,-119.5 \"/>\n<text text-anchor=\"middle\" x=\"492\" y=\"-97.8\" font-family=\"Times,serif\" font-size=\"14.00\" fill=\"#000000\">grad &#45;2.0000</text>\n</g>\n<!-- 140061528777872+ -->\n<g id=\"node4\" class=\"node\">\n<title>140061528777872+</title>\n<ellipse fill=\"none\" stroke=\"#000000\" cx=\"601\" cy=\"-73.5\" rx=\"27\" ry=\"18\"/>\n<text text-anchor=\"middle\" x=\"601\" y=\"-69.8\" font-family=\"Times,serif\" font-size=\"14.00\" fill=\"#000000\">+</text>\n</g>\n<!-- 140061528777776&#45;&gt;140061528777872+ -->\n<g id=\"edge5\" class=\"edge\">\n<title>140061528777776&#45;&gt;140061528777872+</title>\n<path fill=\"none\" stroke=\"#000000\" d=\"M538.0535,-84.0856C547.5392,-82.4904 556.6504,-80.9582 564.8524,-79.5789\"/>\n<polygon fill=\"#000000\" stroke=\"#000000\" points=\"565.4341,-83.0303 574.7152,-77.9203 564.2732,-76.1272 565.4341,-83.0303\"/>\n</g>\n<!-- 140061528778304 -->\n<g id=\"node2\" class=\"node\">\n<title>140061528778304</title>\n<polygon fill=\"none\" stroke=\"#000000\" points=\"0,-56.5 0,-92.5 205,-92.5 205,-56.5 0,-56.5\"/>\n<text text-anchor=\"middle\" x=\"12\" y=\"-70.8\" font-family=\"Times,serif\" font-size=\"14.00\" fill=\"#000000\">b</text>\n<polyline fill=\"none\" stroke=\"#000000\" points=\"24,-56.5 24,-92.5 \"/>\n<text text-anchor=\"middle\" x=\"68.5\" y=\"-70.8\" font-family=\"Times,serif\" font-size=\"14.00\" fill=\"#000000\">data &#45;3.0000</text>\n<polyline fill=\"none\" stroke=\"#000000\" points=\"113,-56.5 113,-92.5 \"/>\n<text text-anchor=\"middle\" x=\"159\" y=\"-70.8\" font-family=\"Times,serif\" font-size=\"14.00\" fill=\"#000000\">grad &#45;4.0000</text>\n</g>\n<!-- 140061528780032* -->\n<g id=\"node9\" class=\"node\">\n<title>140061528780032*</title>\n<ellipse fill=\"none\" stroke=\"#000000\" cx=\"268\" cy=\"-46.5\" rx=\"27\" ry=\"18\"/>\n<text text-anchor=\"middle\" x=\"268\" y=\"-42.8\" font-family=\"Times,serif\" font-size=\"14.00\" fill=\"#000000\">*</text>\n</g>\n<!-- 140061528778304&#45;&gt;140061528780032* -->\n<g id=\"edge8\" class=\"edge\">\n<title>140061528778304&#45;&gt;140061528780032*</title>\n<path fill=\"none\" stroke=\"#000000\" d=\"M205.4315,-57.0856C214.6641,-55.5236 223.5398,-54.022 231.5595,-52.6652\"/>\n<polygon fill=\"#000000\" stroke=\"#000000\" points=\"232.2913,-56.0912 241.5673,-50.972 231.1235,-49.1893 232.2913,-56.0912\"/>\n</g>\n<!-- 140061528777872 -->\n<g id=\"node3\" class=\"node\">\n<title>140061528777872</title>\n<polygon fill=\"none\" stroke=\"#000000\" points=\"664,-55.5 664,-91.5 865,-91.5 865,-55.5 664,-55.5\"/>\n<text text-anchor=\"middle\" x=\"676\" y=\"-69.8\" font-family=\"Times,serif\" font-size=\"14.00\" fill=\"#000000\">d</text>\n<polyline fill=\"none\" stroke=\"#000000\" points=\"688,-55.5 688,-91.5 \"/>\n<text text-anchor=\"middle\" x=\"730.5\" y=\"-69.8\" font-family=\"Times,serif\" font-size=\"14.00\" fill=\"#000000\">data 4.0000</text>\n<polyline fill=\"none\" stroke=\"#000000\" points=\"773,-55.5 773,-91.5 \"/>\n<text text-anchor=\"middle\" x=\"819\" y=\"-69.8\" font-family=\"Times,serif\" font-size=\"14.00\" fill=\"#000000\">grad &#45;2.0000</text>\n</g>\n<!-- 140061528779504* -->\n<g id=\"node7\" class=\"node\">\n<title>140061528779504*</title>\n<ellipse fill=\"none\" stroke=\"#000000\" cx=\"928\" cy=\"-45.5\" rx=\"27\" ry=\"18\"/>\n<text text-anchor=\"middle\" x=\"928\" y=\"-41.8\" font-family=\"Times,serif\" font-size=\"14.00\" fill=\"#000000\">*</text>\n</g>\n<!-- 140061528777872&#45;&gt;140061528779504* -->\n<g id=\"edge4\" class=\"edge\">\n<title>140061528777872&#45;&gt;140061528779504*</title>\n<path fill=\"none\" stroke=\"#000000\" d=\"M865.2542,-56.2455C874.5755,-54.6491 883.5479,-53.1126 891.6492,-51.7252\"/>\n<polygon fill=\"#000000\" stroke=\"#000000\" points=\"892.4879,-55.1326 901.7536,-49.9948 891.3063,-48.2331 892.4879,-55.1326\"/>\n</g>\n<!-- 140061528777872+&#45;&gt;140061528777872 -->\n<g id=\"edge1\" class=\"edge\">\n<title>140061528777872+&#45;&gt;140061528777872</title>\n<path fill=\"none\" stroke=\"#000000\" d=\"M628.3662,-73.5C635.8433,-73.5 644.4313,-73.5 653.5802,-73.5\"/>\n<polygon fill=\"#000000\" stroke=\"#000000\" points=\"653.702,-77.0001 663.702,-73.5 653.7019,-70.0001 653.702,-77.0001\"/>\n</g>\n<!-- 140061528780464 -->\n<g id=\"node5\" class=\"node\">\n<title>140061528780464</title>\n<polygon fill=\"none\" stroke=\"#000000\" points=\"666,-.5 666,-36.5 863,-36.5 863,-.5 666,-.5\"/>\n<text text-anchor=\"middle\" x=\"676.5\" y=\"-14.8\" font-family=\"Times,serif\" font-size=\"14.00\" fill=\"#000000\">f</text>\n<polyline fill=\"none\" stroke=\"#000000\" points=\"687,-.5 687,-36.5 \"/>\n<text text-anchor=\"middle\" x=\"731.5\" y=\"-14.8\" font-family=\"Times,serif\" font-size=\"14.00\" fill=\"#000000\">data &#45;2.0000</text>\n<polyline fill=\"none\" stroke=\"#000000\" points=\"776,-.5 776,-36.5 \"/>\n<text text-anchor=\"middle\" x=\"819.5\" y=\"-14.8\" font-family=\"Times,serif\" font-size=\"14.00\" fill=\"#000000\">grad 4.0000</text>\n</g>\n<!-- 140061528780464&#45;&gt;140061528779504* -->\n<g id=\"edge9\" class=\"edge\">\n<title>140061528780464&#45;&gt;140061528779504*</title>\n<path fill=\"none\" stroke=\"#000000\" d=\"M863.3805,-34.8289C873.3252,-36.4711 882.9157,-38.0549 891.5272,-39.477\"/>\n<polygon fill=\"#000000\" stroke=\"#000000\" points=\"891.067,-42.9483 901.5037,-41.1245 892.2076,-36.0418 891.067,-42.9483\"/>\n</g>\n<!-- 140061528779504 -->\n<g id=\"node6\" class=\"node\">\n<title>140061528779504</title>\n<polygon fill=\"none\" stroke=\"#000000\" points=\"991,-27.5 991,-63.5 1193,-63.5 1193,-27.5 991,-27.5\"/>\n<text text-anchor=\"middle\" x=\"1004\" y=\"-41.8\" font-family=\"Times,serif\" font-size=\"14.00\" fill=\"#000000\">L</text>\n<polyline fill=\"none\" stroke=\"#000000\" points=\"1017,-27.5 1017,-63.5 \"/>\n<text text-anchor=\"middle\" x=\"1061.5\" y=\"-41.8\" font-family=\"Times,serif\" font-size=\"14.00\" fill=\"#000000\">data &#45;8.0000</text>\n<polyline fill=\"none\" stroke=\"#000000\" points=\"1106,-27.5 1106,-63.5 \"/>\n<text text-anchor=\"middle\" x=\"1149.5\" y=\"-41.8\" font-family=\"Times,serif\" font-size=\"14.00\" fill=\"#000000\">grad 1.0000</text>\n</g>\n<!-- 140061528779504*&#45;&gt;140061528779504 -->\n<g id=\"edge2\" class=\"edge\">\n<title>140061528779504*&#45;&gt;140061528779504</title>\n<path fill=\"none\" stroke=\"#000000\" d=\"M955.0813,-45.5C962.631,-45.5 971.3302,-45.5 980.608,-45.5\"/>\n<polygon fill=\"#000000\" stroke=\"#000000\" points=\"980.8754,-49.0001 990.8754,-45.5 980.8754,-42.0001 980.8754,-49.0001\"/>\n</g>\n<!-- 140061528780032 -->\n<g id=\"node8\" class=\"node\">\n<title>140061528780032</title>\n<polygon fill=\"none\" stroke=\"#000000\" points=\"332.5,-28.5 332.5,-64.5 536.5,-64.5 536.5,-28.5 332.5,-28.5\"/>\n<text text-anchor=\"middle\" x=\"344\" y=\"-42.8\" font-family=\"Times,serif\" font-size=\"14.00\" fill=\"#000000\">e</text>\n<polyline fill=\"none\" stroke=\"#000000\" points=\"355.5,-28.5 355.5,-64.5 \"/>\n<text text-anchor=\"middle\" x=\"400\" y=\"-42.8\" font-family=\"Times,serif\" font-size=\"14.00\" fill=\"#000000\">data &#45;6.0000</text>\n<polyline fill=\"none\" stroke=\"#000000\" points=\"444.5,-28.5 444.5,-64.5 \"/>\n<text text-anchor=\"middle\" x=\"490.5\" y=\"-42.8\" font-family=\"Times,serif\" font-size=\"14.00\" fill=\"#000000\">grad &#45;2.0000</text>\n</g>\n<!-- 140061528780032&#45;&gt;140061528777872+ -->\n<g id=\"edge6\" class=\"edge\">\n<title>140061528780032&#45;&gt;140061528777872+</title>\n<path fill=\"none\" stroke=\"#000000\" d=\"M536.6268,-63.0611C546.5808,-64.6753 556.1548,-66.2278 564.738,-67.6197\"/>\n<polygon fill=\"#000000\" stroke=\"#000000\" points=\"564.2437,-71.0852 574.675,-69.2311 565.3642,-64.1754 564.2437,-71.0852\"/>\n</g>\n<!-- 140061528780032*&#45;&gt;140061528780032 -->\n<g id=\"edge3\" class=\"edge\">\n<title>140061528780032*&#45;&gt;140061528780032</title>\n<path fill=\"none\" stroke=\"#000000\" d=\"M295.1217,-46.5C303.0694,-46.5 312.2947,-46.5 322.1416,-46.5\"/>\n<polygon fill=\"#000000\" stroke=\"#000000\" points=\"322.1714,-50.0001 332.1714,-46.5 322.1713,-43.0001 322.1714,-50.0001\"/>\n</g>\n<!-- 140061528779168 -->\n<g id=\"node10\" class=\"node\">\n<title>140061528779168</title>\n<polygon fill=\"none\" stroke=\"#000000\" points=\"5,-1.5 5,-37.5 200,-37.5 200,-1.5 5,-1.5\"/>\n<text text-anchor=\"middle\" x=\"16.5\" y=\"-15.8\" font-family=\"Times,serif\" font-size=\"14.00\" fill=\"#000000\">a</text>\n<polyline fill=\"none\" stroke=\"#000000\" points=\"28,-1.5 28,-37.5 \"/>\n<text text-anchor=\"middle\" x=\"70.5\" y=\"-15.8\" font-family=\"Times,serif\" font-size=\"14.00\" fill=\"#000000\">data 2.0000</text>\n<polyline fill=\"none\" stroke=\"#000000\" points=\"113,-1.5 113,-37.5 \"/>\n<text text-anchor=\"middle\" x=\"156.5\" y=\"-15.8\" font-family=\"Times,serif\" font-size=\"14.00\" fill=\"#000000\">grad 6.0000</text>\n</g>\n<!-- 140061528779168&#45;&gt;140061528780032* -->\n<g id=\"edge7\" class=\"edge\">\n<title>140061528779168&#45;&gt;140061528780032*</title>\n<path fill=\"none\" stroke=\"#000000\" d=\"M200.2073,-35.4402C211.4112,-37.268 222.2367,-39.0341 231.825,-40.5983\"/>\n<polygon fill=\"#000000\" stroke=\"#000000\" points=\"231.2701,-44.054 241.7032,-42.2099 232.3972,-37.1453 231.2701,-44.054\"/>\n</g>\n</g>\n</svg>\n"
          },
          "metadata": {},
          "execution_count": 76
        }
      ]
    },
    {
      "cell_type": "code",
      "source": [
        "a.data += 0.01 * a.grad\n",
        "b.data += 0.01 * b.grad\n",
        "c.data += 0.01 * c.grad\n",
        "f.data += 0.01 * f.grad\n",
        "\n",
        "e = a * b\n",
        "d = e + c\n",
        "L = d * f\n",
        "\n",
        "print(L.data)"
      ],
      "metadata": {
        "colab": {
          "base_uri": "https://localhost:8080/"
        },
        "id": "1-IvK14O5dfN",
        "outputId": "857804b3-ce74-4cdf-b72f-8d6512c1b8c4"
      },
      "execution_count": null,
      "outputs": [
        {
          "output_type": "stream",
          "name": "stdout",
          "text": [
            "-7.286496\n"
          ]
        }
      ]
    },
    {
      "cell_type": "code",
      "source": [
        "#verify the gradients\n",
        "def lol():\n",
        "  \n",
        "  h = 0.001\n",
        "  \n",
        "  a = Value(2.0, label='a')\n",
        "  b = Value(-3.0, label='b')\n",
        "  c = Value(10.0, label='c')\n",
        "  e = a*b; e.label = 'e'\n",
        "  d = e + c; d.label = 'd'\n",
        "  f = Value(-2.0, label='f')\n",
        "  L = d * f; L.label = 'L'\n",
        "  L1 = L.data\n",
        "  \n",
        "  a = Value(2.0, label='a')\n",
        "  a.data+=h\n",
        "  b = Value(-3.0, label='b')\n",
        "  #b.data += h\n",
        "  \n",
        "  c = Value(10.0, label='c')\n",
        "  #c.data+=h\n",
        "  e = a*b; e.label = 'e'\n",
        "  #e.data +=h\n",
        "  d = e + c; d.label = 'd'\n",
        "  f = Value(-2.0, label='f')\n",
        "  L = d * f; L.label = 'L'\n",
        "  L2 = L.data\n",
        "  \n",
        "  print((L2 - L1)/h)\n",
        "  \n",
        "lol()\n"
      ],
      "metadata": {
        "colab": {
          "base_uri": "https://localhost:8080/"
        },
        "id": "aItKAMz_6TN4",
        "outputId": "783ae2b8-af34-4e3a-9299-3ea680ebf675"
      },
      "execution_count": null,
      "outputs": [
        {
          "output_type": "stream",
          "name": "stdout",
          "text": [
            "6.000000000000227\n"
          ]
        }
      ]
    },
    {
      "cell_type": "code",
      "source": [
        "'''\n",
        "Neural Networks \n",
        "'''"
      ],
      "metadata": {
        "colab": {
          "base_uri": "https://localhost:8080/",
          "height": 36
        },
        "id": "Pj67MZP0G2HV",
        "outputId": "f941cc83-05c1-45b7-8555-1dc052081705"
      },
      "execution_count": null,
      "outputs": [
        {
          "output_type": "execute_result",
          "data": {
            "text/plain": [
              "'\\nNeural Networks \\n'"
            ],
            "application/vnd.google.colaboratory.intrinsic+json": {
              "type": "string"
            }
          },
          "metadata": {},
          "execution_count": 77
        }
      ]
    },
    {
      "cell_type": "code",
      "source": [
        "#tanh or sigmoid activation function\n",
        "plt.plot(np.arange(-5,5,0.2), np.tanh(np.arange(-5,5,0.2))); plt.grid();"
      ],
      "metadata": {
        "colab": {
          "base_uri": "https://localhost:8080/",
          "height": 265
        },
        "id": "gvakeV5U6V1H",
        "outputId": "a50c11da-4f20-4f0a-cc2c-c7c883484878"
      },
      "execution_count": null,
      "outputs": [
        {
          "output_type": "display_data",
          "data": {
            "text/plain": [
              "<Figure size 432x288 with 1 Axes>"
            ],
            "image/png": "[encoded data removed]"
          },
          "metadata": {
            "needs_background": "light"
          }
        }
      ]
    },
    {
      "cell_type": "code",
      "source": [
        "# inputs x1,x2\n",
        "x1 = Value(2.0, label='x1')\n",
        "x2 = Value(0.0, label='x2')\n",
        "# weights w1,w2\n",
        "w1 = Value(-3.0, label='w1')\n",
        "w2 = Value(1.0, label='w2')\n",
        "# bias of the neuron\n",
        "b = Value(6.8813735870195432, label='b')\n",
        "# x1*w1 + x2*w2 + b\n",
        "x1w1 = x1*w1; x1w1.label = 'x1*w1'\n",
        "x2w2 = x2*w2; x2w2.label = 'x2*w2'\n",
        "x1w1x2w2 = x1w1 + x2w2; x1w1x2w2.label = 'x1*w1 + x2*w2'\n",
        "n = x1w1x2w2 + b; n.label = 'n'\n",
        "o = n.tanh(); o.label = 'o'\n",
        "\n",
        "draw_dot(o)"
      ],
      "metadata": {
        "colab": {
          "base_uri": "https://localhost:8080/",
          "height": 321
        },
        "id": "NLCiERoV6gyB",
        "outputId": "f144c743-fe4b-430a-87c8-e6db31537d8d"
      },
      "execution_count": null,
      "outputs": [
        {
          "output_type": "execute_result",
          "data": {
            "text/plain": [
              "<graphviz.dot.Digraph at 0x7f62a827e640>"
            ],
            "image/svg+xml": "<?xml version=\"1.0\" encoding=\"UTF-8\" standalone=\"no\"?>\n<!DOCTYPE svg PUBLIC \"-//W3C//DTD SVG 1.1//EN\"\n \"http://www.w3.org/Graphics/SVG/1.1/DTD/svg11.dtd\">\n<!-- Generated by graphviz version 2.40.1 (20161225.0304)\n -->\n<!-- Title: %3 Pages: 1 -->\n<svg width=\"1637pt\" height=\"210pt\"\n viewBox=\"0.00 0.00 1637.00 210.00\" xmlns=\"http://www.w3.org/2000/svg\" xmlns:xlink=\"http://www.w3.org/1999/xlink\">\n<g id=\"graph0\" class=\"graph\" transform=\"scale(1 1) rotate(0) translate(4 206)\">\n<title>%3</title>\n<polygon fill=\"#ffffff\" stroke=\"transparent\" points=\"-4,4 -4,-206 1633,-206 1633,4 -4,4\"/>\n<!-- 140061528233536 -->\n<g id=\"node1\" class=\"node\">\n<title>140061528233536</title>\n<polygon fill=\"none\" stroke=\"#000000\" points=\"337,-55.5 337,-91.5 570,-91.5 570,-55.5 337,-55.5\"/>\n<text text-anchor=\"middle\" x=\"365.5\" y=\"-69.8\" font-family=\"Times,serif\" font-size=\"14.00\" fill=\"#000000\">x1*w1</text>\n<polyline fill=\"none\" stroke=\"#000000\" points=\"394,-55.5 394,-91.5 \"/>\n<text text-anchor=\"middle\" x=\"438.5\" y=\"-69.8\" font-family=\"Times,serif\" font-size=\"14.00\" fill=\"#000000\">data &#45;6.0000</text>\n<polyline fill=\"none\" stroke=\"#000000\" points=\"483,-55.5 483,-91.5 \"/>\n<text text-anchor=\"middle\" x=\"526.5\" y=\"-69.8\" font-family=\"Times,serif\" font-size=\"14.00\" fill=\"#000000\">grad 0.0000</text>\n</g>\n<!-- 140061528233776+ -->\n<g id=\"node11\" class=\"node\">\n<title>140061528233776+</title>\n<ellipse fill=\"none\" stroke=\"#000000\" cx=\"633\" cy=\"-100.5\" rx=\"27\" ry=\"18\"/>\n<text text-anchor=\"middle\" x=\"633\" y=\"-96.8\" font-family=\"Times,serif\" font-size=\"14.00\" fill=\"#000000\">+</text>\n</g>\n<!-- 140061528233536&#45;&gt;140061528233776+ -->\n<g id=\"edge12\" class=\"edge\">\n<title>140061528233536&#45;&gt;140061528233776+</title>\n<path fill=\"none\" stroke=\"#000000\" d=\"M570.2196,-91.0567C579.5315,-92.4574 588.4163,-93.7938 596.4192,-94.9976\"/>\n<polygon fill=\"#000000\" stroke=\"#000000\" points=\"595.984,-98.4714 606.3934,-96.4979 597.0253,-91.5493 595.984,-98.4714\"/>\n</g>\n<!-- 140061528233536* -->\n<g id=\"node2\" class=\"node\">\n<title>140061528233536*</title>\n<ellipse fill=\"none\" stroke=\"#000000\" cx=\"274\" cy=\"-73.5\" rx=\"27\" ry=\"18\"/>\n<text text-anchor=\"middle\" x=\"274\" y=\"-69.8\" font-family=\"Times,serif\" font-size=\"14.00\" fill=\"#000000\">*</text>\n</g>\n<!-- 140061528233536*&#45;&gt;140061528233536 -->\n<g id=\"edge1\" class=\"edge\">\n<title>140061528233536*&#45;&gt;140061528233536</title>\n<path fill=\"none\" stroke=\"#000000\" d=\"M301.2622,-73.5C308.8324,-73.5 317.5801,-73.5 326.9781,-73.5\"/>\n<polygon fill=\"#000000\" stroke=\"#000000\" points=\"326.9853,-77.0001 336.9853,-73.5 326.9852,-70.0001 326.9853,-77.0001\"/>\n</g>\n<!-- 140061528233584 -->\n<g id=\"node3\" class=\"node\">\n<title>140061528233584</title>\n<polygon fill=\"none\" stroke=\"#000000\" points=\"3.5,-55.5 3.5,-91.5 207.5,-91.5 207.5,-55.5 3.5,-55.5\"/>\n<text text-anchor=\"middle\" x=\"19.5\" y=\"-69.8\" font-family=\"Times,serif\" font-size=\"14.00\" fill=\"#000000\">x1</text>\n<polyline fill=\"none\" stroke=\"#000000\" points=\"35.5,-55.5 35.5,-91.5 \"/>\n<text text-anchor=\"middle\" x=\"78\" y=\"-69.8\" font-family=\"Times,serif\" font-size=\"14.00\" fill=\"#000000\">data 2.0000</text>\n<polyline fill=\"none\" stroke=\"#000000\" points=\"120.5,-55.5 120.5,-91.5 \"/>\n<text text-anchor=\"middle\" x=\"164\" y=\"-69.8\" font-family=\"Times,serif\" font-size=\"14.00\" fill=\"#000000\">grad 0.0000</text>\n</g>\n<!-- 140061528233584&#45;&gt;140061528233536* -->\n<g id=\"edge7\" class=\"edge\">\n<title>140061528233584&#45;&gt;140061528233536*</title>\n<path fill=\"none\" stroke=\"#000000\" d=\"M207.888,-73.5C218.0786,-73.5 227.8975,-73.5 236.7094,-73.5\"/>\n<polygon fill=\"#000000\" stroke=\"#000000\" points=\"236.9159,-77.0001 246.9159,-73.5 236.9158,-70.0001 236.9159,-77.0001\"/>\n</g>\n<!-- 140061528234160 -->\n<g id=\"node4\" class=\"node\">\n<title>140061528234160</title>\n<polygon fill=\"none\" stroke=\"#000000\" points=\"742.5,-137.5 742.5,-173.5 938.5,-173.5 938.5,-137.5 742.5,-137.5\"/>\n<text text-anchor=\"middle\" x=\"754.5\" y=\"-151.8\" font-family=\"Times,serif\" font-size=\"14.00\" fill=\"#000000\">b</text>\n<polyline fill=\"none\" stroke=\"#000000\" points=\"766.5,-137.5 766.5,-173.5 \"/>\n<text text-anchor=\"middle\" x=\"809\" y=\"-151.8\" font-family=\"Times,serif\" font-size=\"14.00\" fill=\"#000000\">data 6.8814</text>\n<polyline fill=\"none\" stroke=\"#000000\" points=\"851.5,-137.5 851.5,-173.5 \"/>\n<text text-anchor=\"middle\" x=\"895\" y=\"-151.8\" font-family=\"Times,serif\" font-size=\"14.00\" fill=\"#000000\">grad 0.0000</text>\n</g>\n<!-- 140061528233392+ -->\n<g id=\"node13\" class=\"node\">\n<title>140061528233392+</title>\n<ellipse fill=\"none\" stroke=\"#000000\" cx=\"1048\" cy=\"-127.5\" rx=\"27\" ry=\"18\"/>\n<text text-anchor=\"middle\" x=\"1048\" y=\"-123.8\" font-family=\"Times,serif\" font-size=\"14.00\" fill=\"#000000\">+</text>\n</g>\n<!-- 140061528234160&#45;&gt;140061528233392+ -->\n<g id=\"edge13\" class=\"edge\">\n<title>140061528234160&#45;&gt;140061528233392+</title>\n<path fill=\"none\" stroke=\"#000000\" d=\"M938.7811,-142.238C964.6496,-138.7473 990.9727,-135.1952 1011.2938,-132.4531\"/>\n<polygon fill=\"#000000\" stroke=\"#000000\" points=\"1011.897,-135.9035 1021.3391,-131.0976 1010.9609,-128.9664 1011.897,-135.9035\"/>\n</g>\n<!-- 140061528233680 -->\n<g id=\"node5\" class=\"node\">\n<title>140061528233680</title>\n<polygon fill=\"none\" stroke=\"#000000\" points=\"3.5,-165.5 3.5,-201.5 207.5,-201.5 207.5,-165.5 3.5,-165.5\"/>\n<text text-anchor=\"middle\" x=\"19.5\" y=\"-179.8\" font-family=\"Times,serif\" font-size=\"14.00\" fill=\"#000000\">x2</text>\n<polyline fill=\"none\" stroke=\"#000000\" points=\"35.5,-165.5 35.5,-201.5 \"/>\n<text text-anchor=\"middle\" x=\"78\" y=\"-179.8\" font-family=\"Times,serif\" font-size=\"14.00\" fill=\"#000000\">data 0.0000</text>\n<polyline fill=\"none\" stroke=\"#000000\" points=\"120.5,-165.5 120.5,-201.5 \"/>\n<text text-anchor=\"middle\" x=\"164\" y=\"-179.8\" font-family=\"Times,serif\" font-size=\"14.00\" fill=\"#000000\">grad 0.0000</text>\n</g>\n<!-- 140061528234256* -->\n<g id=\"node9\" class=\"node\">\n<title>140061528234256*</title>\n<ellipse fill=\"none\" stroke=\"#000000\" cx=\"274\" cy=\"-128.5\" rx=\"27\" ry=\"18\"/>\n<text text-anchor=\"middle\" x=\"274\" y=\"-124.8\" font-family=\"Times,serif\" font-size=\"14.00\" fill=\"#000000\">*</text>\n</g>\n<!-- 140061528233680&#45;&gt;140061528234256* -->\n<g id=\"edge8\" class=\"edge\">\n<title>140061528233680&#45;&gt;140061528234256*</title>\n<path fill=\"none\" stroke=\"#000000\" d=\"M182.3017,-165.4558C192.0361,-162.698 201.8026,-159.6955 211,-156.5 221.6243,-152.8088 232.9373,-148.0548 243.0021,-143.5155\"/>\n<polygon fill=\"#000000\" stroke=\"#000000\" points=\"244.5909,-146.6371 252.2061,-139.271 241.6594,-140.2805 244.5909,-146.6371\"/>\n</g>\n<!-- 140061528232720 -->\n<g id=\"node6\" class=\"node\">\n<title>140061528232720</title>\n<polygon fill=\"none\" stroke=\"#000000\" points=\"1433,-109.5 1433,-145.5 1629,-145.5 1629,-109.5 1433,-109.5\"/>\n<text text-anchor=\"middle\" x=\"1445\" y=\"-123.8\" font-family=\"Times,serif\" font-size=\"14.00\" fill=\"#000000\">o</text>\n<polyline fill=\"none\" stroke=\"#000000\" points=\"1457,-109.5 1457,-145.5 \"/>\n<text text-anchor=\"middle\" x=\"1499.5\" y=\"-123.8\" font-family=\"Times,serif\" font-size=\"14.00\" fill=\"#000000\">data 0.7071</text>\n<polyline fill=\"none\" stroke=\"#000000\" points=\"1542,-109.5 1542,-145.5 \"/>\n<text text-anchor=\"middle\" x=\"1585.5\" y=\"-123.8\" font-family=\"Times,serif\" font-size=\"14.00\" fill=\"#000000\">grad 0.0000</text>\n</g>\n<!-- 140061528232720tanh -->\n<g id=\"node7\" class=\"node\">\n<title>140061528232720tanh</title>\n<ellipse fill=\"none\" stroke=\"#000000\" cx=\"1370\" cy=\"-127.5\" rx=\"27\" ry=\"18\"/>\n<text text-anchor=\"middle\" x=\"1370\" y=\"-123.8\" font-family=\"Times,serif\" font-size=\"14.00\" fill=\"#000000\">tanh</text>\n</g>\n<!-- 140061528232720tanh&#45;&gt;140061528232720 -->\n<g id=\"edge2\" class=\"edge\">\n<title>140061528232720tanh&#45;&gt;140061528232720</title>\n<path fill=\"none\" stroke=\"#000000\" d=\"M1397.3115,-127.5C1404.8223,-127.5 1413.4512,-127.5 1422.6318,-127.5\"/>\n<polygon fill=\"#000000\" stroke=\"#000000\" points=\"1422.7835,-131.0001 1432.7835,-127.5 1422.7835,-124.0001 1422.7835,-131.0001\"/>\n</g>\n<!-- 140061528234256 -->\n<g id=\"node8\" class=\"node\">\n<title>140061528234256</title>\n<polygon fill=\"none\" stroke=\"#000000\" points=\"339,-110.5 339,-146.5 568,-146.5 568,-110.5 339,-110.5\"/>\n<text text-anchor=\"middle\" x=\"367.5\" y=\"-124.8\" font-family=\"Times,serif\" font-size=\"14.00\" fill=\"#000000\">x2*w2</text>\n<polyline fill=\"none\" stroke=\"#000000\" points=\"396,-110.5 396,-146.5 \"/>\n<text text-anchor=\"middle\" x=\"438.5\" y=\"-124.8\" font-family=\"Times,serif\" font-size=\"14.00\" fill=\"#000000\">data 0.0000</text>\n<polyline fill=\"none\" stroke=\"#000000\" points=\"481,-110.5 481,-146.5 \"/>\n<text text-anchor=\"middle\" x=\"524.5\" y=\"-124.8\" font-family=\"Times,serif\" font-size=\"14.00\" fill=\"#000000\">grad 0.0000</text>\n</g>\n<!-- 140061528234256&#45;&gt;140061528233776+ -->\n<g id=\"edge11\" class=\"edge\">\n<title>140061528234256&#45;&gt;140061528233776+</title>\n<path fill=\"none\" stroke=\"#000000\" d=\"M568.1964,-110.6086C578.3568,-109.0237 588.0538,-107.5111 596.7076,-106.1612\"/>\n<polygon fill=\"#000000\" stroke=\"#000000\" points=\"597.3659,-109.6009 606.7069,-104.6014 596.2869,-102.6846 597.3659,-109.6009\"/>\n</g>\n<!-- 140061528234256*&#45;&gt;140061528234256 -->\n<g id=\"edge3\" class=\"edge\">\n<title>140061528234256*&#45;&gt;140061528234256</title>\n<path fill=\"none\" stroke=\"#000000\" d=\"M301.2622,-128.5C309.2798,-128.5 318.6183,-128.5 328.6514,-128.5\"/>\n<polygon fill=\"#000000\" stroke=\"#000000\" points=\"328.8929,-132.0001 338.8928,-128.5 328.8928,-125.0001 328.8929,-132.0001\"/>\n</g>\n<!-- 140061528233776 -->\n<g id=\"node10\" class=\"node\">\n<title>140061528233776</title>\n<polygon fill=\"none\" stroke=\"#000000\" points=\"696,-82.5 696,-118.5 985,-118.5 985,-82.5 696,-82.5\"/>\n<text text-anchor=\"middle\" x=\"752.5\" y=\"-96.8\" font-family=\"Times,serif\" font-size=\"14.00\" fill=\"#000000\">x1*w1 + x2*w2</text>\n<polyline fill=\"none\" stroke=\"#000000\" points=\"809,-82.5 809,-118.5 \"/>\n<text text-anchor=\"middle\" x=\"853.5\" y=\"-96.8\" font-family=\"Times,serif\" font-size=\"14.00\" fill=\"#000000\">data &#45;6.0000</text>\n<polyline fill=\"none\" stroke=\"#000000\" points=\"898,-82.5 898,-118.5 \"/>\n<text text-anchor=\"middle\" x=\"941.5\" y=\"-96.8\" font-family=\"Times,serif\" font-size=\"14.00\" fill=\"#000000\">grad 0.0000</text>\n</g>\n<!-- 140061528233776&#45;&gt;140061528233392+ -->\n<g id=\"edge10\" class=\"edge\">\n<title>140061528233776&#45;&gt;140061528233392+</title>\n<path fill=\"none\" stroke=\"#000000\" d=\"M978.9055,-118.5094C990.5887,-120.0296 1001.6094,-121.4636 1011.2737,-122.7212\"/>\n<polygon fill=\"#000000\" stroke=\"#000000\" points=\"1010.8271,-126.1925 1021.1952,-124.0121 1011.7304,-119.251 1010.8271,-126.1925\"/>\n</g>\n<!-- 140061528233776+&#45;&gt;140061528233776 -->\n<g id=\"edge4\" class=\"edge\">\n<title>140061528233776+&#45;&gt;140061528233776</title>\n<path fill=\"none\" stroke=\"#000000\" d=\"M660.127,-100.5C667.628,-100.5 676.3363,-100.5 685.7965,-100.5\"/>\n<polygon fill=\"#000000\" stroke=\"#000000\" points=\"685.9081,-104.0001 695.908,-100.5 685.908,-97.0001 685.9081,-104.0001\"/>\n</g>\n<!-- 140061528233392 -->\n<g id=\"node12\" class=\"node\">\n<title>140061528233392</title>\n<polygon fill=\"none\" stroke=\"#000000\" points=\"1111,-109.5 1111,-145.5 1307,-145.5 1307,-109.5 1111,-109.5\"/>\n<text text-anchor=\"middle\" x=\"1123\" y=\"-123.8\" font-family=\"Times,serif\" font-size=\"14.00\" fill=\"#000000\">n</text>\n<polyline fill=\"none\" stroke=\"#000000\" points=\"1135,-109.5 1135,-145.5 \"/>\n<text text-anchor=\"middle\" x=\"1177.5\" y=\"-123.8\" font-family=\"Times,serif\" font-size=\"14.00\" fill=\"#000000\">data 0.8814</text>\n<polyline fill=\"none\" stroke=\"#000000\" points=\"1220,-109.5 1220,-145.5 \"/>\n<text text-anchor=\"middle\" x=\"1263.5\" y=\"-123.8\" font-family=\"Times,serif\" font-size=\"14.00\" fill=\"#000000\">grad 0.0000</text>\n</g>\n<!-- 140061528233392&#45;&gt;140061528232720tanh -->\n<g id=\"edge9\" class=\"edge\">\n<title>140061528233392&#45;&gt;140061528232720tanh</title>\n<path fill=\"none\" stroke=\"#000000\" d=\"M1307.2922,-127.5C1316.2042,-127.5 1324.8099,-127.5 1332.6423,-127.5\"/>\n<polygon fill=\"#000000\" stroke=\"#000000\" points=\"1332.7996,-131.0001 1342.7995,-127.5 1332.7995,-124.0001 1332.7996,-131.0001\"/>\n</g>\n<!-- 140061528233392+&#45;&gt;140061528233392 -->\n<g id=\"edge5\" class=\"edge\">\n<title>140061528233392+&#45;&gt;140061528233392</title>\n<path fill=\"none\" stroke=\"#000000\" d=\"M1075.3115,-127.5C1082.8223,-127.5 1091.4512,-127.5 1100.6318,-127.5\"/>\n<polygon fill=\"#000000\" stroke=\"#000000\" points=\"1100.7835,-131.0001 1110.7835,-127.5 1100.7835,-124.0001 1100.7835,-131.0001\"/>\n</g>\n<!-- 140061528235984 -->\n<g id=\"node14\" class=\"node\">\n<title>140061528235984</title>\n<polygon fill=\"none\" stroke=\"#000000\" points=\"2,-110.5 2,-146.5 209,-146.5 209,-110.5 2,-110.5\"/>\n<text text-anchor=\"middle\" x=\"19.5\" y=\"-124.8\" font-family=\"Times,serif\" font-size=\"14.00\" fill=\"#000000\">w2</text>\n<polyline fill=\"none\" stroke=\"#000000\" points=\"37,-110.5 37,-146.5 \"/>\n<text text-anchor=\"middle\" x=\"79.5\" y=\"-124.8\" font-family=\"Times,serif\" font-size=\"14.00\" fill=\"#000000\">data 1.0000</text>\n<polyline fill=\"none\" stroke=\"#000000\" points=\"122,-110.5 122,-146.5 \"/>\n<text text-anchor=\"middle\" x=\"165.5\" y=\"-124.8\" font-family=\"Times,serif\" font-size=\"14.00\" fill=\"#000000\">grad 0.0000</text>\n</g>\n<!-- 140061528235984&#45;&gt;140061528234256* -->\n<g id=\"edge6\" class=\"edge\">\n<title>140061528235984&#45;&gt;140061528234256*</title>\n<path fill=\"none\" stroke=\"#000000\" d=\"M209.3354,-128.5C219.0497,-128.5 228.3963,-128.5 236.8187,-128.5\"/>\n<polygon fill=\"#000000\" stroke=\"#000000\" points=\"236.951,-132.0001 246.9509,-128.5 236.9509,-125.0001 236.951,-132.0001\"/>\n</g>\n<!-- 140061528233968 -->\n<g id=\"node15\" class=\"node\">\n<title>140061528233968</title>\n<polygon fill=\"none\" stroke=\"#000000\" points=\"0,-.5 0,-36.5 211,-36.5 211,-.5 0,-.5\"/>\n<text text-anchor=\"middle\" x=\"17.5\" y=\"-14.8\" font-family=\"Times,serif\" font-size=\"14.00\" fill=\"#000000\">w1</text>\n<polyline fill=\"none\" stroke=\"#000000\" points=\"35,-.5 35,-36.5 \"/>\n<text text-anchor=\"middle\" x=\"79.5\" y=\"-14.8\" font-family=\"Times,serif\" font-size=\"14.00\" fill=\"#000000\">data &#45;3.0000</text>\n<polyline fill=\"none\" stroke=\"#000000\" points=\"124,-.5 124,-36.5 \"/>\n<text text-anchor=\"middle\" x=\"167.5\" y=\"-14.8\" font-family=\"Times,serif\" font-size=\"14.00\" fill=\"#000000\">grad 0.0000</text>\n</g>\n<!-- 140061528233968&#45;&gt;140061528233536* -->\n<g id=\"edge14\" class=\"edge\">\n<title>140061528233968&#45;&gt;140061528233536*</title>\n<path fill=\"none\" stroke=\"#000000\" d=\"M179.1277,-36.5688C189.8946,-39.636 200.7889,-42.9778 211,-46.5 221.4855,-50.1168 232.6874,-54.6793 242.694,-59.0193\"/>\n<polygon fill=\"#000000\" stroke=\"#000000\" points=\"241.2981,-62.229 251.8592,-63.0741 244.1302,-55.8274 241.2981,-62.229\"/>\n</g>\n</g>\n</svg>\n"
          },
          "metadata": {},
          "execution_count": 82
        }
      ]
    },
    {
      "cell_type": "code",
      "source": [
        "#manual backrprop for nn\n",
        "'''\n",
        "o.grad = 1.0\n",
        "\n",
        "o = tanh(n)\n",
        "do/dn = 1 - o**2 \n",
        "\n",
        "b.grad = 0.5\n",
        "x1w1x2w2.grad = 0.5\n",
        "o.grad = 1.0\n",
        "\n",
        "o._backward()\n",
        "n._backward()\n",
        "b._backward()\n",
        "x1w1x2w2._backward()\n",
        "x2w2._backward()\n",
        "x1w1._backward()\n",
        "x1.grad = w1.data * x1w1.grad\n",
        "w1.grad = x1.data * x1w1.grad\n",
        "x2.grad = w2.data * x2w2.grad\n",
        "w2.grad = x2.data * x2w2.grad\n",
        "x1w1.grad = 0.5\n",
        "x2w2.grad = 0.5\n",
        "x1w1x2w2.grad = 0.5\n",
        "b.grad = 0.5\n",
        "n.grad = 0.5\n",
        "o.grad = 1.0\n",
        "1 - o.data**2\n",
        "\n",
        "0.4999999\n",
        "'''\n"
      ],
      "metadata": {
        "colab": {
          "base_uri": "https://localhost:8080/",
          "height": 126
        },
        "id": "b3OwnRPPTema",
        "outputId": "e679e73d-f889-4954-dd62-71b8898f188a"
      },
      "execution_count": null,
      "outputs": [
        {
          "output_type": "execute_result",
          "data": {
            "text/plain": [
              "'\\no.grad = 1.0\\n\\no = tanh(n)\\ndo/dn = 1 - o**2 \\n\\nb.grad = 0.5\\nx1w1x2w2.grad = 0.5\\no.grad = 1.0\\n\\no._backward()\\nn._backward()\\nb._backward()\\nx1w1x2w2._backward()\\nx2w2._backward()\\nx1w1._backward()\\nx1.grad = w1.data * x1w1.grad\\nw1.grad = x1.data * x1w1.grad\\nx2.grad = w2.data * x2w2.grad\\nw2.grad = x2.data * x2w2.grad\\nx1w1.grad = 0.5\\nx2w2.grad = 0.5\\nx1w1x2w2.grad = 0.5\\nb.grad = 0.5\\nn.grad = 0.5\\no.grad = 1.0\\n1 - o.data**2\\n\\n0.4999999\\n'"
            ],
            "application/vnd.google.colaboratory.intrinsic+json": {
              "type": "string"
            }
          },
          "metadata": {},
          "execution_count": 84
        }
      ]
    },
    {
      "cell_type": "code",
      "source": [
        "o.backward()  #does backprop\n",
        "draw_dot(o)"
      ],
      "metadata": {
        "colab": {
          "base_uri": "https://localhost:8080/",
          "height": 321
        },
        "id": "4iDclj3f8PrC",
        "outputId": "940f479a-df26-4cfc-904a-644c635d9f1d"
      },
      "execution_count": null,
      "outputs": [
        {
          "output_type": "execute_result",
          "data": {
            "text/plain": [
              "<graphviz.dot.Digraph at 0x7f629da3a760>"
            ],
            "image/svg+xml": "<?xml version=\"1.0\" encoding=\"UTF-8\" standalone=\"no\"?>\n<!DOCTYPE svg PUBLIC \"-//W3C//DTD SVG 1.1//EN\"\n \"http://www.w3.org/Graphics/SVG/1.1/DTD/svg11.dtd\">\n<!-- Generated by graphviz version 2.40.1 (20161225.0304)\n -->\n<!-- Title: %3 Pages: 1 -->\n<svg width=\"1637pt\" height=\"210pt\"\n viewBox=\"0.00 0.00 1637.00 210.00\" xmlns=\"http://www.w3.org/2000/svg\" xmlns:xlink=\"http://www.w3.org/1999/xlink\">\n<g id=\"graph0\" class=\"graph\" transform=\"scale(1 1) rotate(0) translate(4 206)\">\n<title>%3</title>\n<polygon fill=\"#ffffff\" stroke=\"transparent\" points=\"-4,4 -4,-206 1633,-206 1633,4 -4,4\"/>\n<!-- 140061528233536 -->\n<g id=\"node1\" class=\"node\">\n<title>140061528233536</title>\n<polygon fill=\"none\" stroke=\"#000000\" points=\"337,-55.5 337,-91.5 570,-91.5 570,-55.5 337,-55.5\"/>\n<text text-anchor=\"middle\" x=\"365.5\" y=\"-69.8\" font-family=\"Times,serif\" font-size=\"14.00\" fill=\"#000000\">x1*w1</text>\n<polyline fill=\"none\" stroke=\"#000000\" points=\"394,-55.5 394,-91.5 \"/>\n<text text-anchor=\"middle\" x=\"438.5\" y=\"-69.8\" font-family=\"Times,serif\" font-size=\"14.00\" fill=\"#000000\">data &#45;6.0000</text>\n<polyline fill=\"none\" stroke=\"#000000\" points=\"483,-55.5 483,-91.5 \"/>\n<text text-anchor=\"middle\" x=\"526.5\" y=\"-69.8\" font-family=\"Times,serif\" font-size=\"14.00\" fill=\"#000000\">grad 0.5000</text>\n</g>\n<!-- 140061528233776+ -->\n<g id=\"node11\" class=\"node\">\n<title>140061528233776+</title>\n<ellipse fill=\"none\" stroke=\"#000000\" cx=\"633\" cy=\"-100.5\" rx=\"27\" ry=\"18\"/>\n<text text-anchor=\"middle\" x=\"633\" y=\"-96.8\" font-family=\"Times,serif\" font-size=\"14.00\" fill=\"#000000\">+</text>\n</g>\n<!-- 140061528233536&#45;&gt;140061528233776+ -->\n<g id=\"edge12\" class=\"edge\">\n<title>140061528233536&#45;&gt;140061528233776+</title>\n<path fill=\"none\" stroke=\"#000000\" d=\"M570.2196,-91.0567C579.5315,-92.4574 588.4163,-93.7938 596.4192,-94.9976\"/>\n<polygon fill=\"#000000\" stroke=\"#000000\" points=\"595.984,-98.4714 606.3934,-96.4979 597.0253,-91.5493 595.984,-98.4714\"/>\n</g>\n<!-- 140061528233536* -->\n<g id=\"node2\" class=\"node\">\n<title>140061528233536*</title>\n<ellipse fill=\"none\" stroke=\"#000000\" cx=\"274\" cy=\"-73.5\" rx=\"27\" ry=\"18\"/>\n<text text-anchor=\"middle\" x=\"274\" y=\"-69.8\" font-family=\"Times,serif\" font-size=\"14.00\" fill=\"#000000\">*</text>\n</g>\n<!-- 140061528233536*&#45;&gt;140061528233536 -->\n<g id=\"edge1\" class=\"edge\">\n<title>140061528233536*&#45;&gt;140061528233536</title>\n<path fill=\"none\" stroke=\"#000000\" d=\"M301.2622,-73.5C308.8324,-73.5 317.5801,-73.5 326.9781,-73.5\"/>\n<polygon fill=\"#000000\" stroke=\"#000000\" points=\"326.9853,-77.0001 336.9853,-73.5 326.9852,-70.0001 326.9853,-77.0001\"/>\n</g>\n<!-- 140061528233584 -->\n<g id=\"node3\" class=\"node\">\n<title>140061528233584</title>\n<polygon fill=\"none\" stroke=\"#000000\" points=\"1,-55.5 1,-91.5 210,-91.5 210,-55.5 1,-55.5\"/>\n<text text-anchor=\"middle\" x=\"17\" y=\"-69.8\" font-family=\"Times,serif\" font-size=\"14.00\" fill=\"#000000\">x1</text>\n<polyline fill=\"none\" stroke=\"#000000\" points=\"33,-55.5 33,-91.5 \"/>\n<text text-anchor=\"middle\" x=\"75.5\" y=\"-69.8\" font-family=\"Times,serif\" font-size=\"14.00\" fill=\"#000000\">data 2.0000</text>\n<polyline fill=\"none\" stroke=\"#000000\" points=\"118,-55.5 118,-91.5 \"/>\n<text text-anchor=\"middle\" x=\"164\" y=\"-69.8\" font-family=\"Times,serif\" font-size=\"14.00\" fill=\"#000000\">grad &#45;1.5000</text>\n</g>\n<!-- 140061528233584&#45;&gt;140061528233536* -->\n<g id=\"edge7\" class=\"edge\">\n<title>140061528233584&#45;&gt;140061528233536*</title>\n<path fill=\"none\" stroke=\"#000000\" d=\"M210.2974,-73.5C219.6043,-73.5 228.5549,-73.5 236.6562,-73.5\"/>\n<polygon fill=\"#000000\" stroke=\"#000000\" points=\"236.7755,-77.0001 246.7754,-73.5 236.7754,-70.0001 236.7755,-77.0001\"/>\n</g>\n<!-- 140061528234160 -->\n<g id=\"node4\" class=\"node\">\n<title>140061528234160</title>\n<polygon fill=\"none\" stroke=\"#000000\" points=\"742.5,-137.5 742.5,-173.5 938.5,-173.5 938.5,-137.5 742.5,-137.5\"/>\n<text text-anchor=\"middle\" x=\"754.5\" y=\"-151.8\" font-family=\"Times,serif\" font-size=\"14.00\" fill=\"#000000\">b</text>\n<polyline fill=\"none\" stroke=\"#000000\" points=\"766.5,-137.5 766.5,-173.5 \"/>\n<text text-anchor=\"middle\" x=\"809\" y=\"-151.8\" font-family=\"Times,serif\" font-size=\"14.00\" fill=\"#000000\">data 6.8814</text>\n<polyline fill=\"none\" stroke=\"#000000\" points=\"851.5,-137.5 851.5,-173.5 \"/>\n<text text-anchor=\"middle\" x=\"895\" y=\"-151.8\" font-family=\"Times,serif\" font-size=\"14.00\" fill=\"#000000\">grad 0.5000</text>\n</g>\n<!-- 140061528233392+ -->\n<g id=\"node13\" class=\"node\">\n<title>140061528233392+</title>\n<ellipse fill=\"none\" stroke=\"#000000\" cx=\"1048\" cy=\"-127.5\" rx=\"27\" ry=\"18\"/>\n<text text-anchor=\"middle\" x=\"1048\" y=\"-123.8\" font-family=\"Times,serif\" font-size=\"14.00\" fill=\"#000000\">+</text>\n</g>\n<!-- 140061528234160&#45;&gt;140061528233392+ -->\n<g id=\"edge13\" class=\"edge\">\n<title>140061528234160&#45;&gt;140061528233392+</title>\n<path fill=\"none\" stroke=\"#000000\" d=\"M938.7811,-142.238C964.6496,-138.7473 990.9727,-135.1952 1011.2938,-132.4531\"/>\n<polygon fill=\"#000000\" stroke=\"#000000\" points=\"1011.897,-135.9035 1021.3391,-131.0976 1010.9609,-128.9664 1011.897,-135.9035\"/>\n</g>\n<!-- 140061528233680 -->\n<g id=\"node5\" class=\"node\">\n<title>140061528233680</title>\n<polygon fill=\"none\" stroke=\"#000000\" points=\"3.5,-165.5 3.5,-201.5 207.5,-201.5 207.5,-165.5 3.5,-165.5\"/>\n<text text-anchor=\"middle\" x=\"19.5\" y=\"-179.8\" font-family=\"Times,serif\" font-size=\"14.00\" fill=\"#000000\">x2</text>\n<polyline fill=\"none\" stroke=\"#000000\" points=\"35.5,-165.5 35.5,-201.5 \"/>\n<text text-anchor=\"middle\" x=\"78\" y=\"-179.8\" font-family=\"Times,serif\" font-size=\"14.00\" fill=\"#000000\">data 0.0000</text>\n<polyline fill=\"none\" stroke=\"#000000\" points=\"120.5,-165.5 120.5,-201.5 \"/>\n<text text-anchor=\"middle\" x=\"164\" y=\"-179.8\" font-family=\"Times,serif\" font-size=\"14.00\" fill=\"#000000\">grad 0.5000</text>\n</g>\n<!-- 140061528234256* -->\n<g id=\"node9\" class=\"node\">\n<title>140061528234256*</title>\n<ellipse fill=\"none\" stroke=\"#000000\" cx=\"274\" cy=\"-128.5\" rx=\"27\" ry=\"18\"/>\n<text text-anchor=\"middle\" x=\"274\" y=\"-124.8\" font-family=\"Times,serif\" font-size=\"14.00\" fill=\"#000000\">*</text>\n</g>\n<!-- 140061528233680&#45;&gt;140061528234256* -->\n<g id=\"edge8\" class=\"edge\">\n<title>140061528233680&#45;&gt;140061528234256*</title>\n<path fill=\"none\" stroke=\"#000000\" d=\"M182.3017,-165.4558C192.0361,-162.698 201.8026,-159.6955 211,-156.5 221.6243,-152.8088 232.9373,-148.0548 243.0021,-143.5155\"/>\n<polygon fill=\"#000000\" stroke=\"#000000\" points=\"244.5909,-146.6371 252.2061,-139.271 241.6594,-140.2805 244.5909,-146.6371\"/>\n</g>\n<!-- 140061528232720 -->\n<g id=\"node6\" class=\"node\">\n<title>140061528232720</title>\n<polygon fill=\"none\" stroke=\"#000000\" points=\"1433,-109.5 1433,-145.5 1629,-145.5 1629,-109.5 1433,-109.5\"/>\n<text text-anchor=\"middle\" x=\"1445\" y=\"-123.8\" font-family=\"Times,serif\" font-size=\"14.00\" fill=\"#000000\">o</text>\n<polyline fill=\"none\" stroke=\"#000000\" points=\"1457,-109.5 1457,-145.5 \"/>\n<text text-anchor=\"middle\" x=\"1499.5\" y=\"-123.8\" font-family=\"Times,serif\" font-size=\"14.00\" fill=\"#000000\">data 0.7071</text>\n<polyline fill=\"none\" stroke=\"#000000\" points=\"1542,-109.5 1542,-145.5 \"/>\n<text text-anchor=\"middle\" x=\"1585.5\" y=\"-123.8\" font-family=\"Times,serif\" font-size=\"14.00\" fill=\"#000000\">grad 1.0000</text>\n</g>\n<!-- 140061528232720tanh -->\n<g id=\"node7\" class=\"node\">\n<title>140061528232720tanh</title>\n<ellipse fill=\"none\" stroke=\"#000000\" cx=\"1370\" cy=\"-127.5\" rx=\"27\" ry=\"18\"/>\n<text text-anchor=\"middle\" x=\"1370\" y=\"-123.8\" font-family=\"Times,serif\" font-size=\"14.00\" fill=\"#000000\">tanh</text>\n</g>\n<!-- 140061528232720tanh&#45;&gt;140061528232720 -->\n<g id=\"edge2\" class=\"edge\">\n<title>140061528232720tanh&#45;&gt;140061528232720</title>\n<path fill=\"none\" stroke=\"#000000\" d=\"M1397.3115,-127.5C1404.8223,-127.5 1413.4512,-127.5 1422.6318,-127.5\"/>\n<polygon fill=\"#000000\" stroke=\"#000000\" points=\"1422.7835,-131.0001 1432.7835,-127.5 1422.7835,-124.0001 1422.7835,-131.0001\"/>\n</g>\n<!-- 140061528234256 -->\n<g id=\"node8\" class=\"node\">\n<title>140061528234256</title>\n<polygon fill=\"none\" stroke=\"#000000\" points=\"339,-110.5 339,-146.5 568,-146.5 568,-110.5 339,-110.5\"/>\n<text text-anchor=\"middle\" x=\"367.5\" y=\"-124.8\" font-family=\"Times,serif\" font-size=\"14.00\" fill=\"#000000\">x2*w2</text>\n<polyline fill=\"none\" stroke=\"#000000\" points=\"396,-110.5 396,-146.5 \"/>\n<text text-anchor=\"middle\" x=\"438.5\" y=\"-124.8\" font-family=\"Times,serif\" font-size=\"14.00\" fill=\"#000000\">data 0.0000</text>\n<polyline fill=\"none\" stroke=\"#000000\" points=\"481,-110.5 481,-146.5 \"/>\n<text text-anchor=\"middle\" x=\"524.5\" y=\"-124.8\" font-family=\"Times,serif\" font-size=\"14.00\" fill=\"#000000\">grad 0.5000</text>\n</g>\n<!-- 140061528234256&#45;&gt;140061528233776+ -->\n<g id=\"edge11\" class=\"edge\">\n<title>140061528234256&#45;&gt;140061528233776+</title>\n<path fill=\"none\" stroke=\"#000000\" d=\"M568.1964,-110.6086C578.3568,-109.0237 588.0538,-107.5111 596.7076,-106.1612\"/>\n<polygon fill=\"#000000\" stroke=\"#000000\" points=\"597.3659,-109.6009 606.7069,-104.6014 596.2869,-102.6846 597.3659,-109.6009\"/>\n</g>\n<!-- 140061528234256*&#45;&gt;140061528234256 -->\n<g id=\"edge3\" class=\"edge\">\n<title>140061528234256*&#45;&gt;140061528234256</title>\n<path fill=\"none\" stroke=\"#000000\" d=\"M301.2622,-128.5C309.2798,-128.5 318.6183,-128.5 328.6514,-128.5\"/>\n<polygon fill=\"#000000\" stroke=\"#000000\" points=\"328.8929,-132.0001 338.8928,-128.5 328.8928,-125.0001 328.8929,-132.0001\"/>\n</g>\n<!-- 140061528233776 -->\n<g id=\"node10\" class=\"node\">\n<title>140061528233776</title>\n<polygon fill=\"none\" stroke=\"#000000\" points=\"696,-82.5 696,-118.5 985,-118.5 985,-82.5 696,-82.5\"/>\n<text text-anchor=\"middle\" x=\"752.5\" y=\"-96.8\" font-family=\"Times,serif\" font-size=\"14.00\" fill=\"#000000\">x1*w1 + x2*w2</text>\n<polyline fill=\"none\" stroke=\"#000000\" points=\"809,-82.5 809,-118.5 \"/>\n<text text-anchor=\"middle\" x=\"853.5\" y=\"-96.8\" font-family=\"Times,serif\" font-size=\"14.00\" fill=\"#000000\">data &#45;6.0000</text>\n<polyline fill=\"none\" stroke=\"#000000\" points=\"898,-82.5 898,-118.5 \"/>\n<text text-anchor=\"middle\" x=\"941.5\" y=\"-96.8\" font-family=\"Times,serif\" font-size=\"14.00\" fill=\"#000000\">grad 0.5000</text>\n</g>\n<!-- 140061528233776&#45;&gt;140061528233392+ -->\n<g id=\"edge10\" class=\"edge\">\n<title>140061528233776&#45;&gt;140061528233392+</title>\n<path fill=\"none\" stroke=\"#000000\" d=\"M978.9055,-118.5094C990.5887,-120.0296 1001.6094,-121.4636 1011.2737,-122.7212\"/>\n<polygon fill=\"#000000\" stroke=\"#000000\" points=\"1010.8271,-126.1925 1021.1952,-124.0121 1011.7304,-119.251 1010.8271,-126.1925\"/>\n</g>\n<!-- 140061528233776+&#45;&gt;140061528233776 -->\n<g id=\"edge4\" class=\"edge\">\n<title>140061528233776+&#45;&gt;140061528233776</title>\n<path fill=\"none\" stroke=\"#000000\" d=\"M660.127,-100.5C667.628,-100.5 676.3363,-100.5 685.7965,-100.5\"/>\n<polygon fill=\"#000000\" stroke=\"#000000\" points=\"685.9081,-104.0001 695.908,-100.5 685.908,-97.0001 685.9081,-104.0001\"/>\n</g>\n<!-- 140061528233392 -->\n<g id=\"node12\" class=\"node\">\n<title>140061528233392</title>\n<polygon fill=\"none\" stroke=\"#000000\" points=\"1111,-109.5 1111,-145.5 1307,-145.5 1307,-109.5 1111,-109.5\"/>\n<text text-anchor=\"middle\" x=\"1123\" y=\"-123.8\" font-family=\"Times,serif\" font-size=\"14.00\" fill=\"#000000\">n</text>\n<polyline fill=\"none\" stroke=\"#000000\" points=\"1135,-109.5 1135,-145.5 \"/>\n<text text-anchor=\"middle\" x=\"1177.5\" y=\"-123.8\" font-family=\"Times,serif\" font-size=\"14.00\" fill=\"#000000\">data 0.8814</text>\n<polyline fill=\"none\" stroke=\"#000000\" points=\"1220,-109.5 1220,-145.5 \"/>\n<text text-anchor=\"middle\" x=\"1263.5\" y=\"-123.8\" font-family=\"Times,serif\" font-size=\"14.00\" fill=\"#000000\">grad 0.5000</text>\n</g>\n<!-- 140061528233392&#45;&gt;140061528232720tanh -->\n<g id=\"edge9\" class=\"edge\">\n<title>140061528233392&#45;&gt;140061528232720tanh</title>\n<path fill=\"none\" stroke=\"#000000\" d=\"M1307.2922,-127.5C1316.2042,-127.5 1324.8099,-127.5 1332.6423,-127.5\"/>\n<polygon fill=\"#000000\" stroke=\"#000000\" points=\"1332.7996,-131.0001 1342.7995,-127.5 1332.7995,-124.0001 1332.7996,-131.0001\"/>\n</g>\n<!-- 140061528233392+&#45;&gt;140061528233392 -->\n<g id=\"edge5\" class=\"edge\">\n<title>140061528233392+&#45;&gt;140061528233392</title>\n<path fill=\"none\" stroke=\"#000000\" d=\"M1075.3115,-127.5C1082.8223,-127.5 1091.4512,-127.5 1100.6318,-127.5\"/>\n<polygon fill=\"#000000\" stroke=\"#000000\" points=\"1100.7835,-131.0001 1110.7835,-127.5 1100.7835,-124.0001 1100.7835,-131.0001\"/>\n</g>\n<!-- 140061528235984 -->\n<g id=\"node14\" class=\"node\">\n<title>140061528235984</title>\n<polygon fill=\"none\" stroke=\"#000000\" points=\"2,-110.5 2,-146.5 209,-146.5 209,-110.5 2,-110.5\"/>\n<text text-anchor=\"middle\" x=\"19.5\" y=\"-124.8\" font-family=\"Times,serif\" font-size=\"14.00\" fill=\"#000000\">w2</text>\n<polyline fill=\"none\" stroke=\"#000000\" points=\"37,-110.5 37,-146.5 \"/>\n<text text-anchor=\"middle\" x=\"79.5\" y=\"-124.8\" font-family=\"Times,serif\" font-size=\"14.00\" fill=\"#000000\">data 1.0000</text>\n<polyline fill=\"none\" stroke=\"#000000\" points=\"122,-110.5 122,-146.5 \"/>\n<text text-anchor=\"middle\" x=\"165.5\" y=\"-124.8\" font-family=\"Times,serif\" font-size=\"14.00\" fill=\"#000000\">grad 0.0000</text>\n</g>\n<!-- 140061528235984&#45;&gt;140061528234256* -->\n<g id=\"edge6\" class=\"edge\">\n<title>140061528235984&#45;&gt;140061528234256*</title>\n<path fill=\"none\" stroke=\"#000000\" d=\"M209.3354,-128.5C219.0497,-128.5 228.3963,-128.5 236.8187,-128.5\"/>\n<polygon fill=\"#000000\" stroke=\"#000000\" points=\"236.951,-132.0001 246.9509,-128.5 236.9509,-125.0001 236.951,-132.0001\"/>\n</g>\n<!-- 140061528233968 -->\n<g id=\"node15\" class=\"node\">\n<title>140061528233968</title>\n<polygon fill=\"none\" stroke=\"#000000\" points=\"0,-.5 0,-36.5 211,-36.5 211,-.5 0,-.5\"/>\n<text text-anchor=\"middle\" x=\"17.5\" y=\"-14.8\" font-family=\"Times,serif\" font-size=\"14.00\" fill=\"#000000\">w1</text>\n<polyline fill=\"none\" stroke=\"#000000\" points=\"35,-.5 35,-36.5 \"/>\n<text text-anchor=\"middle\" x=\"79.5\" y=\"-14.8\" font-family=\"Times,serif\" font-size=\"14.00\" fill=\"#000000\">data &#45;3.0000</text>\n<polyline fill=\"none\" stroke=\"#000000\" points=\"124,-.5 124,-36.5 \"/>\n<text text-anchor=\"middle\" x=\"167.5\" y=\"-14.8\" font-family=\"Times,serif\" font-size=\"14.00\" fill=\"#000000\">grad 1.0000</text>\n</g>\n<!-- 140061528233968&#45;&gt;140061528233536* -->\n<g id=\"edge14\" class=\"edge\">\n<title>140061528233968&#45;&gt;140061528233536*</title>\n<path fill=\"none\" stroke=\"#000000\" d=\"M179.1277,-36.5688C189.8946,-39.636 200.7889,-42.9778 211,-46.5 221.4855,-50.1168 232.6874,-54.6793 242.694,-59.0193\"/>\n<polygon fill=\"#000000\" stroke=\"#000000\" points=\"241.2981,-62.229 251.8592,-63.0741 244.1302,-55.8274 241.2981,-62.229\"/>\n</g>\n</g>\n</svg>\n"
          },
          "metadata": {},
          "execution_count": 83
        }
      ]
    },
    {
      "cell_type": "code",
      "source": [],
      "metadata": {
        "id": "YSpaV_Z0HGsP"
      },
      "execution_count": null,
      "outputs": []
    }
  ]
}